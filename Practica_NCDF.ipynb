{
  "nbformat": 4,
  "nbformat_minor": 0,
  "metadata": {
    "colab": {
      "provenance": [],
      "include_colab_link": true
    },
    "kernelspec": {
      "name": "ir",
      "display_name": "R"
    },
    "language_info": {
      "name": "R"
    }
  },
  "cells": [
    {
      "cell_type": "markdown",
      "metadata": {
        "id": "view-in-github",
        "colab_type": "text"
      },
      "source": [
        "<a href=\"https://colab.research.google.com/github/Cami-lop/Practica_4/blob/main/Practica_NCDF.ipynb\" target=\"_parent\"><img src=\"https://colab.research.google.com/assets/colab-badge.svg\" alt=\"Open In Colab\"/></a>"
      ]
    },
    {
      "cell_type": "markdown",
      "source": [
        "#Google Colab\n",
        "\n",
        "\n",
        "R y Markdown en Colab/Jupyter"
      ],
      "metadata": {
        "id": "a4MJl03t1ehZ"
      }
    },
    {
      "cell_type": "markdown",
      "source": [
        "##Tipos de celdas y como ejecutarlas"
      ],
      "metadata": {
        "id": "hDt0ZLL75sIg"
      }
    },
    {
      "cell_type": "code",
      "source": [],
      "metadata": {
        "id": "f6jUopUqSDmu"
      },
      "execution_count": null,
      "outputs": []
    },
    {
      "cell_type": "markdown",
      "source": [
        "## Nucleo/entorno de ejecución\n",
        "\n",
        "Google Colab utiliza como entorno de ejecución Python (versión 3) y de R sobre diferentes configuraciones del equipo, como CPU o que posea además algún acelerador (utilizando GPU o TPU).\n",
        "\n",
        "Existe un límite de tiempo de uso del servicio de Colab (unas 12 horas corridas), 100 GB almacenamiento (durante la duración de la conexión) y 12 GB de RAM. Recuerden que es una Maquina Virtual, después de la finalización de la sesión se pierden los contenidos guardados (datos y variables). Solo quedan las salidas de las celdas de ejecución.\n",
        "\n",
        "Sin embargo, tanto el uso de aceleradores como los límites indicados solo se\n",
        "tornan relevantes para el caso de códigos muy complejos. No es necesario\n",
        "preocuparse por ellos para el caso de desarrollar códigos simples.\n",
        "\n",
        "\\\n",
        "**A tener en cuenta!!!**\n",
        "\n",
        "Puede ocurrir que nos pongamos a realizar otra cosa o nos fuimos a hacer a algo, y la sesión quedó abierta. Lo que ocurre es después de un tiempo de inactividad la sesión se cae. Cuando retomemos la sesión clikeando en **Reconectar**, abajo del botón \"Compartir\", suele (¡Tengan cuidado!) que los archivos que teniamos cargados se quedan aún en el entorno por lo que no es necesario volverlo a cargar.\n",
        "\n",
        "\\\n",
        "En la barra de herramientas arriba de la notebook hacia la izquierda encontraran la solapa \"Editar\", dentro de llega tienen la opción de **Configuración del Notebook**. Aca es donde pueden modificar el entorno de ejecución (Python o R) y los aceleradores que deseamos utilizar (CPU, GPU, TPU)."
      ],
      "metadata": {
        "id": "-gM7Vcoq4d54"
      }
    },
    {
      "cell_type": "markdown",
      "source": [
        "## Añadiendo celdas\n",
        "Para añadir nuevas celdas usando los botones **+ Código** and **+ Texto** que se muestran cuando pasamos el mouse entre las celdas. Estos botones se encuentran también en la barra de herramientas sobre la notebook, se añadiran debajo de la celda seleccionada.\n",
        "\n",
        "Se pueden mover una seleccionandola y haciendo click en **Mover celda hacia arriba** ⇑ o **Mover celda hacia abajo** ⇓\n",
        "\n",
        "\n",
        "Prueben con la celda de abajo:"
      ],
      "metadata": {
        "id": "itQFrk0g0y76"
      }
    },
    {
      "cell_type": "code",
      "source": [],
      "metadata": {
        "id": "5-KZGcDi21JN"
      },
      "execution_count": null,
      "outputs": []
    },
    {
      "cell_type": "markdown",
      "source": [
        "##Estética de las notebook\n",
        "\n",
        "En el engranaje al lado de nuestro perfil, encontraremos las configuraciones de aspecto para la notebook (además de Colab Pro y Github)\n",
        "- En **sitio/site** veran pueden configurar el tema de la notebook.\n",
        "- En **editor** tienen las opciones para configurar la fuente de texto en el código, cómo demás artilugios relacionados con su estructura.\n",
        "- En **varios/miscellaneous** pueden poner perros, gatitos y cangrejos caminando arriba de la notebook y en Nivel de Poder/Power Level un motivación para codear rápido.\n",
        "\n",
        "##Referencias\n",
        "\n",
        "* <a href=\"https://colab.research.google.com/?hl=es#scrollTo=lSrWNr3MuFUS\">Bienvenida a Colab</a>.\n",
        "* <a href=\"https://colab.research.google.com/notebooks/basic_features_overview.ipynb#scrollTo=_YrTcK7k22Fp\">Características</a>.\n",
        "* <a href=\"https://colab.research.google.com/notebooks/markdown_guide.ipynb\"> Guía de Markdown en Colab</a>.\n",
        "* <a href=\"https://colab.research.google.com/github/googlecolab/colabtools/blob/main/notebooks/colab-github-demo.ipynb#scrollTo=8QAWNjizy_3O\">Github</a>\n",
        "* <a href=\"https://nbviewer.org/github/ipython/ipython/blob/1.x/examples/notebooks/Cell%20Magics.ipynb\">Jupyter Magics</a> (solo Python)\n",
        "* <a href=\"https://fcaglp.unlp.edu.ar/~gbaume/grupo/Publicaciones/Apuntes/GoogleColab.pdf\">Apunte</a>"
      ],
      "metadata": {
        "id": "o0BcHeSSo-ZD"
      }
    },
    {
      "cell_type": "markdown",
      "source": [
        "#Trabajando con fechas con la libreria Lubridate"
      ],
      "metadata": {
        "id": "hcL7OWNR8R-y"
      }
    },
    {
      "cell_type": "code",
      "source": [
        "install.packages(\"lubridate\")\n",
        "library(lubridate)"
      ],
      "metadata": {
        "id": "0vvp8XTlNJQh",
        "colab": {
          "base_uri": "https://localhost:8080/"
        },
        "outputId": "0ff48ccf-3dbc-4a8e-99e3-3f372bd7a12b"
      },
      "execution_count": 3,
      "outputs": [
        {
          "output_type": "stream",
          "name": "stderr",
          "text": [
            "Installing package into ‘/usr/local/lib/R/site-library’\n",
            "(as ‘lib’ is unspecified)\n",
            "\n",
            "\n",
            "Attaching package: ‘lubridate’\n",
            "\n",
            "\n",
            "The following objects are masked from ‘package:base’:\n",
            "\n",
            "    date, intersect, setdiff, union\n",
            "\n",
            "\n"
          ]
        }
      ]
    },
    {
      "cell_type": "markdown",
      "source": [
        "Vamos a definir una fecha y horario completo para manipularla con la función ymd_hms(fecha).\n",
        "\n",
        "Ingresen la fecha de nacimiento de ustedes en el formato **\"YYYY-MM-DD HH-mm-ss\"\"** e impriman la clase a la que corresponde:"
      ],
      "metadata": {
        "id": "ELps6azLNUBM"
      }
    },
    {
      "cell_type": "code",
      "source": [
        "fecha_nacimiento <- ymd_hms(\"2002-02-04 12:00:00\") #puedo cambiar el formato en el que lee la informacion de la fecha\n",
        "fecha_nacimiento\n",
        "\n",
        "class(fecha_nacimiento)"
      ],
      "metadata": {
        "id": "VmoLhRqc82C_",
        "colab": {
          "base_uri": "https://localhost:8080/",
          "height": 52
        },
        "outputId": "93ea0ecc-4d18-486b-ccc3-2782782d0fe5"
      },
      "execution_count": 6,
      "outputs": [
        {
          "output_type": "display_data",
          "data": {
            "text/plain": [
              "[1] \"2002-02-04 12:00:00 UTC\""
            ]
          },
          "metadata": {}
        },
        {
          "output_type": "display_data",
          "data": {
            "text/html": [
              "<style>\n",
              ".list-inline {list-style: none; margin:0; padding: 0}\n",
              ".list-inline>li {display: inline-block}\n",
              ".list-inline>li:not(:last-child)::after {content: \"\\00b7\"; padding: 0 .5ex}\n",
              "</style>\n",
              "<ol class=list-inline><li>'POSIXct'</li><li>'POSIXt'</li></ol>\n"
            ],
            "text/markdown": "1. 'POSIXct'\n2. 'POSIXt'\n\n\n",
            "text/latex": "\\begin{enumerate*}\n\\item 'POSIXct'\n\\item 'POSIXt'\n\\end{enumerate*}\n",
            "text/plain": [
              "[1] \"POSIXct\" \"POSIXt\" "
            ]
          },
          "metadata": {}
        }
      ]
    },
    {
      "cell_type": "markdown",
      "source": [
        "'POSIXct' (ct -> CommonTime) es una representación interna de R para guardar fechas y horas. A grandes rasgos es una codificación en su parte entera de la fecha, y en los decimales la parte de la hora."
      ],
      "metadata": {
        "id": "5IWKyL2fOZ-9"
      }
    },
    {
      "cell_type": "markdown",
      "source": [
        "Prueben de utilizar las funciones **year()**, **month()**, **day()**, **hour()**, **minute()**, **second()** sobre la variable de fecha que definimos, y vean que les devuelve."
      ],
      "metadata": {
        "id": "ZWAstaydH7xx"
      }
    },
    {
      "cell_type": "code",
      "source": [
        "year(fecha_nacimiento) #devuelve solo lo que le estoy pidiendo\n",
        "month(fecha_nacimiento)\n",
        "day(fecha_nacimiento)\n",
        "hour(fecha_nacimiento)\n"
      ],
      "metadata": {
        "id": "ldg5u7T_JSEf",
        "colab": {
          "base_uri": "https://localhost:8080/",
          "height": 86
        },
        "outputId": "5b66ba6d-48bf-4229-96bb-8500986e055e"
      },
      "execution_count": 7,
      "outputs": [
        {
          "output_type": "display_data",
          "data": {
            "text/html": [
              "2002"
            ],
            "text/markdown": "2002",
            "text/latex": "2002",
            "text/plain": [
              "[1] 2002"
            ]
          },
          "metadata": {}
        },
        {
          "output_type": "display_data",
          "data": {
            "text/html": [
              "2"
            ],
            "text/markdown": "2",
            "text/latex": "2",
            "text/plain": [
              "[1] 2"
            ]
          },
          "metadata": {}
        },
        {
          "output_type": "display_data",
          "data": {
            "text/html": [
              "4"
            ],
            "text/markdown": "4",
            "text/latex": "4",
            "text/plain": [
              "[1] 4"
            ]
          },
          "metadata": {}
        },
        {
          "output_type": "display_data",
          "data": {
            "text/html": [
              "12"
            ],
            "text/markdown": "12",
            "text/latex": "12",
            "text/plain": [
              "[1] 12"
            ]
          },
          "metadata": {}
        }
      ]
    },
    {
      "cell_type": "markdown",
      "source": [
        "##Duraciones\n",
        "\n",
        "Existe una gama de funciones llamadas de forma similar a las anteriores llamadas duraciones. A un conjunto se la escribe en plural y a otro conjunto adicionalmente a esto, se le agrega una \"d\" adelante de la duración. Si se le sumo un año a mi variable fecha. ¿Qué me devuelve?. Luego prueben de sumar 1.5 años **(No la guarden o guardenlas en un variable nueva)**\n",
        "\n",
        "* year( ) ⇒ years( ) | dyears( )\n",
        "* month( ) ⇒ months( ) | dmonths( )\n",
        "* day( ) ⇒ days( ) | ddays( )\n",
        "* hour( ) ⇒ hours( ) | dhours( )\n",
        "* minute( ) ⇒ minutes( ) | dminutes( )\n",
        "* second( ) ⇒ seconds( ) | dseconds( )"
      ],
      "metadata": {
        "id": "UPSWjArt0CmB"
      }
    },
    {
      "cell_type": "code",
      "source": [
        "fecha_1<-fecha_nacimiento+years(1)\n",
        "fecha_1\n",
        "fecha_2<-fecha_nacimiento+dyears(1)  #6 horas de diferecia\n",
        "fecha_2"
      ],
      "metadata": {
        "id": "HXzJJ4SooTNi",
        "colab": {
          "base_uri": "https://localhost:8080/",
          "height": 52
        },
        "outputId": "d1269d55-736b-40b9-c816-068bf97f8d86"
      },
      "execution_count": 12,
      "outputs": [
        {
          "output_type": "display_data",
          "data": {
            "text/plain": [
              "[1] \"2003-02-04 12:00:00 UTC\""
            ]
          },
          "metadata": {}
        },
        {
          "output_type": "display_data",
          "data": {
            "text/plain": [
              "[1] \"2003-02-04 18:00:00 UTC\""
            ]
          },
          "metadata": {}
        }
      ]
    },
    {
      "cell_type": "markdown",
      "source": [
        "Impriman years(1) e dyears(1)"
      ],
      "metadata": {
        "id": "GEDJTPANs3gK"
      }
    },
    {
      "cell_type": "markdown",
      "source": [
        "### Calculando diferencias entre tiempos\n",
        "\n",
        "Queremos tener el tiempo de este momento, podemos utilizar la función **now()** de lubridate que nos da la fecha y el horario del momento en que se ejecuta la línea de código.\n",
        "\n",
        "Definan la variable con now, ejecuten la variable sola y luego imprimanla por pantalla con **print** que diga algún mensaje del estilo \"El tiempo actual es: \", ¿Les devuelve lo mismo?."
      ],
      "metadata": {
        "id": "qnplzNIKIol3"
      }
    },
    {
      "cell_type": "code",
      "source": [
        "fecha_3<-fecha_nacimiento+years(1.5)  #salta error solo trabajo conb numeros enteros pero dyears si se puedo"
      ],
      "metadata": {
        "colab": {
          "base_uri": "https://localhost:8080/",
          "height": 282
        },
        "id": "jBNAcMmhT0Yl",
        "outputId": "e424efde-35d6-4687-c4d1-ecf3abe40b19"
      },
      "execution_count": 13,
      "outputs": [
        {
          "output_type": "error",
          "ename": "ERROR",
          "evalue": "ignored",
          "traceback": [
            "Error in validObject(.Object): invalid class “Period” object: periods must have integer values\nTraceback:\n",
            "1. years(1.5)",
            "2. period(year = x)",
            "3. .period_from_units(list(...))",
            "4. new(\"Period\", out$second, year = out$year, month = out$month, \n .     day = out$day, hour = out$hour, minute = out$minute)",
            "5. initialize(value, ...)",
            "6. initialize(value, ...)",
            "7. validObject(.Object)",
            "8. stop(msg, \": \", errors, domain = NA)"
          ]
        }
      ]
    },
    {
      "cell_type": "code",
      "source": [
        "years(1) #es un año\n",
        "dyears(1) #esta en segundos los paso a dias\n",
        "dyears(1)/60/60/24 #tiene en cuenta lo años biscientos / se suma un año y 6 horas"
      ],
      "metadata": {
        "id": "ycIvURNhgnN_"
      },
      "execution_count": null,
      "outputs": []
    },
    {
      "cell_type": "code",
      "source": [
        "Ahora<-now()\n",
        "Ahora\n",
        "print(paste0(\"el tiempo es\",Ahora))  #hay que tener cuidado con los tiempos para ello se usa la funcion format"
      ],
      "metadata": {
        "colab": {
          "base_uri": "https://localhost:8080/",
          "height": 52
        },
        "id": "zK42tlqgVUAK",
        "outputId": "2af86dae-507d-41bb-c979-2564ac7e3539"
      },
      "execution_count": 16,
      "outputs": [
        {
          "output_type": "display_data",
          "data": {
            "text/plain": [
              "[1] \"2023-10-26 14:14:14 UTC\""
            ]
          },
          "metadata": {}
        },
        {
          "output_type": "stream",
          "name": "stdout",
          "text": [
            "[1] \"el tiempo es2023-10-26 14:14:14.155745\"\n"
          ]
        }
      ]
    },
    {
      "cell_type": "markdown",
      "source": [
        "###Formato\n",
        "\n",
        "Para cambiar el formato de las variables de tipo fecha podemos utilizar **format()**. Es muy útil para utilizar las fechas en el formato que deseemos por ejemplo:\n",
        "\n",
        "* fecha_formato1 <- format(fecha, %d/%m/%Y %H%M%S) #Formato dd/mm/YYYY HHMMSS.\n",
        "* fecha_formato2 <- format(fecha, tz=\"\"), sigue siendo UTC, pero le sacamos que diga UTC.\n",
        "* fecha_formato3 <- format(fecha, \"%A, %d de %B de %Y\"), Wednesday, 14 de July de 2023 (Ejemplo).\n",
        "\n",
        "Prueben este formato para corregir lo que nos ocurre cuando lo usamos en un print en un mensaje."
      ],
      "metadata": {
        "id": "KMCOOd5XRQqn"
      }
    },
    {
      "cell_type": "code",
      "source": [
        "fecha_formato1 <- format(fecha, %d/%m/%Y %H%M%S) #Formato dd/mm/YYYY HHMMSS.\n",
        "fecha_formato2 <- format(fecha, tz=\"\") # sigue siendo UTC, pero le sacamos que diga UTC.\n",
        "fecha_formato3 <- format(fecha, \"%A, %d de %B de %Y\") #Wednesday, 14 de July de 2023 (Ejemplo).\n"
      ],
      "metadata": {
        "id": "0iON-gbhRQ9p"
      },
      "execution_count": null,
      "outputs": []
    },
    {
      "cell_type": "code",
      "source": [
        "fecha_nac<-format(fecha_nacimiento, tz=\"\")\n",
        "fecha_nac\n",
        "Ahora<-format(now(),tz\"\")\n",
        "print(paste0(\"el tiempo es\",Ahora))  #hay que tener cuidado con los tiempos para ello se usa la funcion format"
      ],
      "metadata": {
        "colab": {
          "base_uri": "https://localhost:8080/",
          "height": 34
        },
        "id": "A1D3HvMZWFIP",
        "outputId": "13860e0f-813e-46ed-b2fa-e1c5808934cc"
      },
      "execution_count": 18,
      "outputs": [
        {
          "output_type": "display_data",
          "data": {
            "text/html": [
              "'2002-02-04 12:00:00'"
            ],
            "text/markdown": "'2002-02-04 12:00:00'",
            "text/latex": "'2002-02-04 12:00:00'",
            "text/plain": [
              "[1] \"2002-02-04 12:00:00\""
            ]
          },
          "metadata": {}
        }
      ]
    },
    {
      "cell_type": "markdown",
      "source": [
        "###Diferencia de tiempo\n",
        "\n",
        "Con la función **difftime(fecha_ini, fecha_fin, , units = \"days\")**, podemos calcular cuanta distancia temporal exiten entre dos variables de tiempo.\n",
        "\n",
        "Queremos conocer cuanto tiempo paso entre que nacieron y este momento."
      ],
      "metadata": {
        "id": "JYGSRSKsQ_iA"
      }
    },
    {
      "cell_type": "code",
      "source": [
        "diferencia <- difftime(Ahora, fecha_nacimiento, units = \"days\")\n",
        "diferencia"
      ],
      "metadata": {
        "colab": {
          "base_uri": "https://localhost:8080/",
          "height": 34
        },
        "id": "0SeTTHl_Q-lI",
        "outputId": "5a144d5c-74ea-4a50-b815-7787800eec85"
      },
      "execution_count": 19,
      "outputs": [
        {
          "output_type": "display_data",
          "data": {
            "text/plain": [
              "Time difference of 7934.093 days"
            ]
          },
          "metadata": {}
        }
      ]
    },
    {
      "cell_type": "markdown",
      "source": [
        "###Practiquen\n",
        "\n",
        "¿Qué día de su vida será el 10000 de su vida? ¿Cuánto tiempo falta para eso?"
      ],
      "metadata": {
        "id": "yJGl1evvu2F7"
      }
    },
    {
      "cell_type": "code",
      "source": [
        "dia_10mil<-fecha_nacimiento+days(10000)\n",
        "dif<-difftime(dia_10mil,now(), units=\"days\")\n",
        "dif\n",
        "anio<-dif/365\n",
        "anio"
      ],
      "metadata": {
        "colab": {
          "base_uri": "https://localhost:8080/",
          "height": 52
        },
        "id": "C9BG5PLnXrbl",
        "outputId": "e96e9e1a-4e2d-4b24-ab34-f50ec45a5a2c"
      },
      "execution_count": 30,
      "outputs": [
        {
          "output_type": "display_data",
          "data": {
            "text/plain": [
              "Time difference of 2065.898 days"
            ]
          },
          "metadata": {}
        },
        {
          "output_type": "display_data",
          "data": {
            "text/plain": [
              "Time difference of 5.659994 days"
            ]
          },
          "metadata": {}
        }
      ]
    },
    {
      "cell_type": "markdown",
      "source": [
        "#NetCDF\n",
        "\n",
        "NetCDF (Network Common Data Form) es un conjunto de bibliotecas de software y formatos de datos independientes de la máquina que permiten crear, acceder y compartir datos científicos orientados a matrices. También es un estándar comunitario para compartir datos científicos.\n",
        "\n",
        "El Centro de Programas <a href=\"https://www.unidata.ucar.edu/\">Unidata</a> soporta y mantiene interfaces de programación netCDF para C, C++, Java y Fortran. También hay disponibles interfaces de programación para Python, IDL, MATLAB, **R**, Ruby y Perl.\n",
        "\n",
        "##Características\n",
        "- **Autodescrito**. Un archivo netCDF incluye información sobre el que contiene.\n",
        "\n",
        "- **Portátil**. Un archivo netCDF se puede acceder por computadoras con diferentes maneras de almacenar números enteros, caracteres y punto flotante.\n",
        "\n",
        "- **Escalable**. A través de las interfaces netCDF se puede acceder eficazmente a pequeños subconjuntos de grandes conjuntos de datos en diversos formatos, incluso desde servidores remotos.\n",
        "\n",
        "- **Anexables**. Los datos pueden añadirse a un archivo netCDF correctamente estructurado sin copiar el conjunto de datos ni redefinir su estructura.\n",
        "\n",
        "- **Compartible**. Un escritor y varios lectores pueden acceder simultáneamente al mismo archivo netCDF.\n",
        "\n",
        "- **Archivable**. El acceso a todas las formas anteriores de netCDF serán compatibles con las versiones y futuras versiones del software.\n",
        "\n",
        "Más info ⇒ <a href=\"https://www.unidata.ucar.edu/publications/factsheets/current/factsheet_netcdf.pdf\">factsheets netCDF</a>."
      ],
      "metadata": {
        "id": "FI0oJz2CsDpl"
      }
    },
    {
      "cell_type": "markdown",
      "source": [
        "#Ejercicio\n",
        "\n",
        "Instalamos y llamos a las librerias que vamos a utilizar. Lubridate ya la tenemos a disposición."
      ],
      "metadata": {
        "id": "ifwiW3z8Um-v"
      }
    },
    {
      "cell_type": "code",
      "execution_count": 53,
      "metadata": {
        "id": "06UzKShaTFrT",
        "colab": {
          "base_uri": "https://localhost:8080/"
        },
        "outputId": "c7d46387-5ffc-4d68-b63d-4d1f6dd3d61c"
      },
      "outputs": [
        {
          "output_type": "stream",
          "name": "stderr",
          "text": [
            "Installing package into ‘/usr/local/lib/R/site-library’\n",
            "(as ‘lib’ is unspecified)\n",
            "\n"
          ]
        }
      ],
      "source": [
        "rm(list=ls())\n",
        "install.packages(\"ncdf4\")\n",
        "library(ncdf4)"
      ]
    },
    {
      "cell_type": "markdown",
      "source": [
        "##Descargamos un archivo NCDF\n",
        "Vamos a utilizar la función intríseca \"**download.file(url,destino)**\" de R para hacerlo. Esto nos dará un archivo de tipo .zip que luego utilizaremos la función ***unzip*** para abri dicho archivo.\n",
        "\n",
        "En este caso trabajaremos con datos de estimaciones de precipitación horarios, que es un producto disponible en el Center for Hydrometeorology and Remote Sensing (CHRS), ver <a href=\"http://chrsdata.eng.uci.edu/\">link</a>."
      ],
      "metadata": {
        "id": "vxro-sbYrn70"
      }
    },
    {
      "cell_type": "code",
      "source": [
        "url <- \"https://chrsdata.eng.uci.edu/userFile/PERSIANN-PDIR/sergiohgonzalezxmwimL.zip\"\n",
        "nombre_datos <- \"Datos_PERSIANN_PDIR.zip\"\n",
        "\n",
        "download.file(url, paste0(\"/content/\",nombre_datos)) #carpeta de destino siempre es content/ si no aparece actualizamos"
      ],
      "metadata": {
        "id": "H7t6aZSnLJCJ"
      },
      "execution_count": 54,
      "outputs": []
    },
    {
      "cell_type": "code",
      "source": [
        "unzip(\"/content/Datos_PERSIANN_PDIR.zip\", exdir = \"/content/\") #le digo en donde esta y donde lo quiero abrir"
      ],
      "metadata": {
        "id": "0SSQz6eQLN1w"
      },
      "execution_count": 33,
      "outputs": []
    },
    {
      "cell_type": "markdown",
      "source": [
        "## Miremos cuantos archivos tenemos"
      ],
      "metadata": {
        "id": "brcoP6eSeNqZ"
      }
    },
    {
      "cell_type": "code",
      "source": [
        "files <- list.files(\"/content/\") #Esta función me lista los archivos que se encuentran en la carpeta de destino que le indico\n",
        "files #me imprime por pantalla los archivos que tengo"
      ],
      "metadata": {
        "id": "geNHICfieNQ7",
        "colab": {
          "base_uri": "https://localhost:8080/",
          "height": 34
        },
        "outputId": "5dc14340-5c5d-4468-cbfd-93e0097d0ed0"
      },
      "execution_count": 55,
      "outputs": [
        {
          "output_type": "display_data",
          "data": {
            "text/html": [
              "<style>\n",
              ".list-inline {list-style: none; margin:0; padding: 0}\n",
              ".list-inline>li {display: inline-block}\n",
              ".list-inline>li:not(:last-child)::after {content: \"\\00b7\"; padding: 0 .5ex}\n",
              "</style>\n",
              "<ol class=list-inline><li>'Datos_PERSIANN_PDIR.zip'</li><li>'info.txt'</li><li>'PDIR_2023-10-25103925pm_202310.nc'</li><li>'read_netcdf.m'</li><li>'read_netcdf.py'</li><li>'sample_data'</li></ol>\n"
            ],
            "text/markdown": "1. 'Datos_PERSIANN_PDIR.zip'\n2. 'info.txt'\n3. 'PDIR_2023-10-25103925pm_202310.nc'\n4. 'read_netcdf.m'\n5. 'read_netcdf.py'\n6. 'sample_data'\n\n\n",
            "text/latex": "\\begin{enumerate*}\n\\item 'Datos\\_PERSIANN\\_PDIR.zip'\n\\item 'info.txt'\n\\item 'PDIR\\_2023-10-25103925pm\\_202310.nc'\n\\item 'read\\_netcdf.m'\n\\item 'read\\_netcdf.py'\n\\item 'sample\\_data'\n\\end{enumerate*}\n",
            "text/plain": [
              "[1] \"Datos_PERSIANN_PDIR.zip\"           \"info.txt\"                         \n",
              "[3] \"PDIR_2023-10-25103925pm_202310.nc\" \"read_netcdf.m\"                    \n",
              "[5] \"read_netcdf.py\"                    \"sample_data\"                      "
            ]
          },
          "metadata": {}
        }
      ]
    },
    {
      "cell_type": "markdown",
      "source": [
        "Miremos uno de los archivos NCDF, y lo abrimos con la función nc_open. Como vieron en la teórica y lo que más van a utilizar es si van a permitir o no la escritura del archivo, que lo determinan con el argumento **write**.\n",
        "\n",
        "\\\n",
        "***nc_open( filename, write=FALSE, readunlim=TRUE, verbose=FALSE, auto_GMT=TRUE, suppress_dimvals=FALSE, return_on_error=FALSE )***"
      ],
      "metadata": {
        "id": "gYHb2sk4b6H4"
      }
    },
    {
      "cell_type": "code",
      "source": [
        "datos_PERSIANN <- nc_open(filename = paste0(\"/content/\", files[3]))"
      ],
      "metadata": {
        "id": "6mKz2nv2qZO0"
      },
      "execution_count": 56,
      "outputs": []
    },
    {
      "cell_type": "markdown",
      "source": [
        "Veamos que hay dentro de estos archivos, esto se puede saber llamando al archivo NCDF por pantalla (como vamos a hacer) o mirar la documentación de donde vienen los datos."
      ],
      "metadata": {
        "id": "sFthSoZlgXGX"
      }
    },
    {
      "cell_type": "code",
      "source": [],
      "metadata": {
        "id": "FodnLF87dhd3"
      },
      "execution_count": null,
      "outputs": []
    },
    {
      "cell_type": "code",
      "source": [
        "datos_PERSIANN\n",
        "#lon 175 /lat 275 / tiempo 144 desde el 20/10 a las 00"
      ],
      "metadata": {
        "id": "MU5NWViha4c4",
        "colab": {
          "base_uri": "https://localhost:8080/",
          "height": 382
        },
        "outputId": "ef7c2071-2ec8-47c1-ecdd-91f5ecad3b6a"
      },
      "execution_count": 57,
      "outputs": [
        {
          "output_type": "display_data",
          "data": {
            "text/plain": [
              "File /content/PDIR_2023-10-25103925pm_202310.nc (NC_FORMAT_NETCDF4):\n",
              "\n",
              "     2 variables (excluding dimension variables):\n",
              "        int crs[]   (Contiguous storage)  \n",
              "            long_name: Lon/Lat Coords in WGS84\n",
              "            grid_mapping_name: latitude_longitude\n",
              "            longitude_of_prime_meridian: 0\n",
              "            semi_major_axis: 6378137\n",
              "            inverse_flattening: 298.257223563\n",
              "        short precip[lon,lat,datetime]   (Chunking: [16,16,12])  (Compression: shuffle,level 4)\n",
              "            grid_mapping: crs\n",
              "\n",
              "     3 dimensions:\n",
              "        lon  Size:175 \n",
              "        lat  Size:275 \n",
              "        datetime  Size:144   *** is unlimited *** \n",
              "            units: hours since 2023-10-20 00\n",
              "            calendar: gregorian\n",
              "\n",
              "    1 global attributes:\n",
              "        Conventions: CF-1.6"
            ]
          },
          "metadata": {}
        }
      ]
    },
    {
      "cell_type": "markdown",
      "source": [
        "Observen toda la información que nos da el archivo:\n",
        "- La cantidad de variables.\n",
        "- El tipo de dato de cada variable, su nombre, por cuales dimensiones están conformadas, y las dimensiones.\n",
        "- Las unidades, su nombre estándar y nombre largo, con que tipo de reticulado están definidos y en que coordenadas están cada variable.\n",
        "- Las específicaciones de las dimensiones de los datos.\n",
        "- Atributos globales, estos son datos de configuración del modelo.\n",
        "\n",
        "Si queremos extraer uno de los datos podemos utilizar la función ***ncvar_get***. Y cerramos el archivo con la función ***nc_close*** , recuerden siempre de cerrar los achivos NCDF que abren y no utilizan más, porque si no llenan la memoria de archivos abiertos."
      ],
      "metadata": {
        "id": "s3t6Wt5ggzK1"
      }
    },
    {
      "cell_type": "code",
      "source": [
        "datos_PP <- ncvar_get(datos_PERSIANN, \"precip\") #Extraemos la precipitación horaria en superficie\n",
        "\n",
        "#nc_close(datos_PERSIANN) #cierro el archivo porque sino, no se guarada la informacion\n"
      ],
      "metadata": {
        "id": "_UkHwinGrpRt"
      },
      "execution_count": 59,
      "outputs": []
    },
    {
      "cell_type": "markdown",
      "source": [
        "#**Ejercicio**\n",
        "\n",
        "Con los datos que descargaron:\n",
        "\n",
        "* Imprimir por pantalla la precipitación máxima del día en la región y en que horario ocurrió. El mensaje debe estar estructurado de la siguiente manera: \"La precipitacion maxima para el dia dd de mm del YYYY ocurrio a las HH UTC y llovio  de **PP** mm.\"."
      ],
      "metadata": {
        "id": "buCKhstM1A5d"
      }
    },
    {
      "cell_type": "code",
      "source": [
        "#Falta terminar, hay que hacer dos ciclos"
      ],
      "metadata": {
        "id": "GOSJFf9Sy8Vf",
        "colab": {
          "base_uri": "https://localhost:8080/",
          "height": 173
        },
        "outputId": "df87b095-d633-4593-a140-8cc57e6c105d"
      },
      "execution_count": 80,
      "outputs": [
        {
          "output_type": "display_data",
          "data": {
            "text/html": [
              "5.95833333333333"
            ],
            "text/markdown": "5.95833333333333",
            "text/latex": "5.95833333333333",
            "text/plain": [
              "[1] 5.958333"
            ]
          },
          "metadata": {}
        },
        {
          "output_type": "stream",
          "name": "stdout",
          "text": [
            "  [1]   0   1   2   3   4   5   6   7   8   9  10  11  12  13  14  15  16  17\n",
            " [19]  18  19  20  21  22  23  24  25  26  27  28  29  30  31  32  33  34  35\n",
            " [37]  36  37  38  39  40  41  42  43  44  45  46  47  48  49  50  51  52  53\n",
            " [55]  54  55  56  57  58  59  60  61  62  63  64  65  66  67  68  69  70  71\n",
            " [73]  72  73  74  75  76  77  78  79  80  81  82  83  84  85  86  87  88  89\n",
            " [91]  90  91  92  93  94  95  96  97  98  99 100 101 102 103 104 105 106 107\n",
            "[109] 108 109 110 111 112 113 114 115 116 117 118 119 120 121 122 123 124 125\n",
            "[127] 126 127 128 129 130 131 132 133 134 135 136 137 138 139 140 141 142 143\n"
          ]
        }
      ]
    },
    {
      "cell_type": "markdown",
      "source": [
        "<b>No se olviden de guardar en Github!</b>\n",
        "\n",
        "Van a Archivo ⇒ Guardar una copia en Github. (Les va a pedir usuario y contraseña)\n",
        "\n",
        "Si alguna ves requieren clonar su carpeta en colab puede utilizar los comando de Git de esta manera."
      ],
      "metadata": {
        "id": "P-ps5r030WaD"
      }
    },
    {
      "cell_type": "code",
      "source": [
        "! git clone link  #Inserten su link"
      ],
      "metadata": {
        "id": "304TJWEG0V3S"
      },
      "execution_count": null,
      "outputs": []
    }
  ]
}